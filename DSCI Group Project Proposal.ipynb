{
 "cells": [
  {
   "cell_type": "markdown",
   "id": "74aaa12f",
   "metadata": {},
   "source": [
    "# **DSCI 100 Group Project**\n",
    "Authors: \n",
    "- Munn Chai\n",
    "- Deep Shah\n",
    "- Your name here\n",
    "- Your name here\n",
    "\n",
    "### **Introduction**\n",
    "info needed:\n",
    "- context, background info about topic\n",
    "- state question clearly\n",
    "- identify dataset that will be used\n",
    "\n",
    "### **Preliminary Exploratory Data Analysis**\n",
    "info needed: \n",
    "- read dataset into R\n",
    "- wrangle data into tidy data\n",
    "- using Training data only, summarize the data in one table. An example of a useful table could be one that reports the number of observations in each class, the means of the predictor variables you plan to use in your analysis and how many rows have missing data. \n",
    "- Using only training data, visualize the data with at least one plot relevant to the analysis you plan to do (this is exploratory data analysis). An example of a useful visualization could be one that compares the distributions of each of the predictor variables you plan to use in your analysis.\n",
    "\n",
    "### **Methods**\n",
    "info needed: \n",
    "- explain how you will conduct your data analysis, and which rows and columns you will use\n",
    "- describe one way you will visualize the results\n",
    "\n",
    "### **Expected Outcomes and Significance**\n",
    "info needed: \n",
    "- what do you expect to find?\n",
    "- what impact do these findings have? \n",
    "- what future questions could these findings lead to? "
   ]
  },
  {
   "cell_type": "code",
   "execution_count": 1,
   "id": "9348dbe0-b239-491d-96ff-bda6b2af8027",
   "metadata": {},
   "outputs": [
    {
     "name": "stderr",
     "output_type": "stream",
     "text": [
      "── \u001b[1mAttaching packages\u001b[22m ─────────────────────────────────────── tidyverse 1.3.1 ──\n",
      "\n",
      "\u001b[32m✔\u001b[39m \u001b[34mggplot2\u001b[39m 3.3.6     \u001b[32m✔\u001b[39m \u001b[34mpurrr  \u001b[39m 0.3.4\n",
      "\u001b[32m✔\u001b[39m \u001b[34mtibble \u001b[39m 3.1.7     \u001b[32m✔\u001b[39m \u001b[34mdplyr  \u001b[39m 1.0.9\n",
      "\u001b[32m✔\u001b[39m \u001b[34mtidyr  \u001b[39m 1.2.0     \u001b[32m✔\u001b[39m \u001b[34mstringr\u001b[39m 1.4.0\n",
      "\u001b[32m✔\u001b[39m \u001b[34mreadr  \u001b[39m 2.1.2     \u001b[32m✔\u001b[39m \u001b[34mforcats\u001b[39m 0.5.1\n",
      "\n",
      "── \u001b[1mConflicts\u001b[22m ────────────────────────────────────────── tidyverse_conflicts() ──\n",
      "\u001b[31m✖\u001b[39m \u001b[34mdplyr\u001b[39m::\u001b[32mfilter()\u001b[39m masks \u001b[34mstats\u001b[39m::filter()\n",
      "\u001b[31m✖\u001b[39m \u001b[34mdplyr\u001b[39m::\u001b[32mlag()\u001b[39m    masks \u001b[34mstats\u001b[39m::lag()\n",
      "\n",
      "── \u001b[1mAttaching packages\u001b[22m ────────────────────────────────────── tidymodels 1.0.0 ──\n",
      "\n",
      "\u001b[32m✔\u001b[39m \u001b[34mbroom       \u001b[39m 1.0.0     \u001b[32m✔\u001b[39m \u001b[34mrsample     \u001b[39m 1.0.0\n",
      "\u001b[32m✔\u001b[39m \u001b[34mdials       \u001b[39m 1.0.0     \u001b[32m✔\u001b[39m \u001b[34mtune        \u001b[39m 1.0.0\n",
      "\u001b[32m✔\u001b[39m \u001b[34minfer       \u001b[39m 1.0.2     \u001b[32m✔\u001b[39m \u001b[34mworkflows   \u001b[39m 1.0.0\n",
      "\u001b[32m✔\u001b[39m \u001b[34mmodeldata   \u001b[39m 1.0.0     \u001b[32m✔\u001b[39m \u001b[34mworkflowsets\u001b[39m 1.0.0\n",
      "\u001b[32m✔\u001b[39m \u001b[34mparsnip     \u001b[39m 1.0.0     \u001b[32m✔\u001b[39m \u001b[34myardstick   \u001b[39m 1.0.0\n",
      "\u001b[32m✔\u001b[39m \u001b[34mrecipes     \u001b[39m 1.0.1     \n",
      "\n",
      "── \u001b[1mConflicts\u001b[22m ───────────────────────────────────────── tidymodels_conflicts() ──\n",
      "\u001b[31m✖\u001b[39m \u001b[34mscales\u001b[39m::\u001b[32mdiscard()\u001b[39m masks \u001b[34mpurrr\u001b[39m::discard()\n",
      "\u001b[31m✖\u001b[39m \u001b[34mdplyr\u001b[39m::\u001b[32mfilter()\u001b[39m   masks \u001b[34mstats\u001b[39m::filter()\n",
      "\u001b[31m✖\u001b[39m \u001b[34mrecipes\u001b[39m::\u001b[32mfixed()\u001b[39m  masks \u001b[34mstringr\u001b[39m::fixed()\n",
      "\u001b[31m✖\u001b[39m \u001b[34mdplyr\u001b[39m::\u001b[32mlag()\u001b[39m      masks \u001b[34mstats\u001b[39m::lag()\n",
      "\u001b[31m✖\u001b[39m \u001b[34myardstick\u001b[39m::\u001b[32mspec()\u001b[39m masks \u001b[34mreadr\u001b[39m::spec()\n",
      "\u001b[31m✖\u001b[39m \u001b[34mrecipes\u001b[39m::\u001b[32mstep()\u001b[39m   masks \u001b[34mstats\u001b[39m::step()\n",
      "\u001b[34m•\u001b[39m Learn how to get started at \u001b[32mhttps://www.tidymodels.org/start/\u001b[39m\n",
      "\n"
     ]
    }
   ],
   "source": [
    "library(tidyverse)\n",
    "library(tidymodels)\n",
    "library(repr)"
   ]
  },
  {
   "cell_type": "code",
   "execution_count": 2,
   "id": "c0f8d340-8068-42fa-89eb-a4b9a3fe5c5c",
   "metadata": {},
   "outputs": [
    {
     "name": "stderr",
     "output_type": "stream",
     "text": [
      "\u001b[1mRows: \u001b[22m\u001b[34m8378\u001b[39m \u001b[1mColumns: \u001b[22m\u001b[34m195\u001b[39m\n",
      "\u001b[36m──\u001b[39m \u001b[1mColumn specification\u001b[22m \u001b[36m────────────────────────────────────────────────────────\u001b[39m\n",
      "\u001b[1mDelimiter:\u001b[22m \",\"\n",
      "\u001b[31mchr\u001b[39m   (4): field, undergra, from, career\n",
      "\u001b[32mdbl\u001b[39m (187): iid, id, gender, idg, condtn, wave, round, position, positin1, or...\n",
      "\n",
      "\u001b[36mℹ\u001b[39m Use `spec()` to retrieve the full column specification for this data.\n",
      "\u001b[36mℹ\u001b[39m Specify the column types or set `show_col_types = FALSE` to quiet this message.\n"
     ]
    }
   ],
   "source": [
    "speed_dating_data <- read_csv(\"http://www.stat.columbia.edu/~gelman/arm/examples/speed.dating/Speed%20Dating%20Data.csv\")"
   ]
  },
  {
   "cell_type": "code",
   "execution_count": 7,
   "id": "d42bdf6c-e885-4cd2-bd48-71fcc643a630",
   "metadata": {},
   "outputs": [
    {
     "name": "stderr",
     "output_type": "stream",
     "text": [
      "Warning message in wave != 6:9:\n",
      "“longer object length is not a multiple of shorter object length”\n"
     ]
    }
   ],
   "source": [
    "speed_dating_tidy <- speed_dating_data |>\n",
    "    filter(wave != 6:9) |> # these waves had a different rating system for traits\n",
    "    select(match, gender, date, attr1_1, sinc1_1, intel1_1, fun1_1, amb1_1) |>\n",
    "    mutate(match = as_factor(match)) |>\n",
    "    na.omit()\n",
    "\n",
    "# speed_dating_tidy <- speed_dating_data |>\n",
    "#     filter(wave != 6:9) |> # these waves had a different rating system for traits\n",
    "#     select(match, gender, date, attr1_1, sinc1_1, intel1_1, fun1_1, amb1_1,\n",
    "#           attr2_1, sinc2_1, intel2_1, fun2_1, amb2_1, \n",
    "#           attr3_1, sinc3_1, intel3_1, fun3_1, amb3_1,\n",
    "#           attr4_1, sinc4_1, intel4_1, fun4_1, amb4_1,\n",
    "#           attr5_1, sinc5_1, intel5_1, fun5_1, amb5_1) |>\n",
    "#     mutate(match = as_factor(match)) |>\n",
    "#     na.omit()"
   ]
  },
  {
   "cell_type": "code",
   "execution_count": 8,
   "id": "3eeda7a5-a6c7-4ed5-8dc3-b9f15518c072",
   "metadata": {},
   "outputs": [
    {
     "data": {
      "text/html": [
       "7872"
      ],
      "text/latex": [
       "7872"
      ],
      "text/markdown": [
       "7872"
      ],
      "text/plain": [
       "[1] 7872"
      ]
     },
     "metadata": {},
     "output_type": "display_data"
    },
    {
     "data": {
      "text/html": [
       "5903"
      ],
      "text/latex": [
       "5903"
      ],
      "text/markdown": [
       "5903"
      ],
      "text/plain": [
       "[1] 5903"
      ]
     },
     "metadata": {},
     "output_type": "display_data"
    },
    {
     "data": {
      "text/html": [
       "1969"
      ],
      "text/latex": [
       "1969"
      ],
      "text/markdown": [
       "1969"
      ],
      "text/plain": [
       "[1] 1969"
      ]
     },
     "metadata": {},
     "output_type": "display_data"
    }
   ],
   "source": [
    "# keeping results consistent\n",
    "set.seed(100)\n",
    "\n",
    "speed_dating_split <- initial_split(speed_dating_tidy, prop = 0.75, strata = match)  \n",
    "speed_dating_train <- training(speed_dating_split)   \n",
    "speed_dating_test <- testing(speed_dating_split) \n",
    "nrow(speed_dating_tidy)\n",
    "nrow(speed_dating_train)\n",
    "nrow(speed_dating_test)"
   ]
  },
  {
   "cell_type": "code",
   "execution_count": 9,
   "id": "9d30e354-3a8b-4832-b7b4-ef454be489af",
   "metadata": {},
   "outputs": [
    {
     "data": {
      "image/png": "[encoded data removed]",
      "text/plain": [
       "plot without title"
      ]
     },
     "metadata": {
      "image/png": {
       "height": 420,
       "width": 420
      }
     },
     "output_type": "display_data"
    }
   ],
   "source": [
    "set.seed(100)\n",
    "\n",
    "knn_tune <- nearest_neighbor(weight_func = \"rectangular\", neighbors = tune()) |>\n",
    "    set_engine(\"kknn\") |>\n",
    "    set_mode(\"classification\")\n",
    "\n",
    "speed_dating_vfold <- vfold_cv(data = speed_dating_train, v = 5, strata = match)\n",
    "\n",
    "k_value <- tibble(neighbors = seq(from = 1, to = 20, by = 1))\n",
    "\n",
    "speed_dating_recipe <- recipe(match ~ ., data = speed_dating_train) |>\n",
    "    step_scale(all_predictors()) |>\n",
    "    step_center(all_predictors())\n",
    "\n",
    "knn_results <- workflow() |>\n",
    "    add_recipe(speed_dating_recipe) |>\n",
    "    add_model(knn_tune) |>\n",
    "    tune_grid(resamples = speed_dating_vfold, grid = k_value) |>\n",
    "    collect_metrics() \n",
    "\n",
    "accuracies <- knn_results |>\n",
    "    filter(.metric == \"accuracy\")\n",
    "\n",
    "cross_val_plot <- accuracies |>\n",
    "    ggplot(aes(x = neighbors, y = mean)) +\n",
    "    geom_point() +\n",
    "    geom_line() +\n",
    "    labs(x = \"Neighbors\", y = \"Accuracy Estimate\")\n",
    "cross_val_plot"
   ]
  },
  {
   "cell_type": "code",
   "execution_count": 10,
   "id": "d23cd2fd-c192-4b03-8497-69dc7b4c4d85",
   "metadata": {},
   "outputs": [
    {
     "data": {
      "text/html": [
       "<table class=\"dataframe\">\n",
       "<caption>A tibble: 2 × 3</caption>\n",
       "<thead>\n",
       "\t<tr><th scope=col>.metric</th><th scope=col>.estimator</th><th scope=col>.estimate</th></tr>\n",
       "\t<tr><th scope=col>&lt;chr&gt;</th><th scope=col>&lt;chr&gt;</th><th scope=col>&lt;dbl&gt;</th></tr>\n",
       "</thead>\n",
       "<tbody>\n",
       "\t<tr><td>accuracy</td><td>binary</td><td>0.8501778</td></tr>\n",
       "\t<tr><td>kap     </td><td>binary</td><td>0.2596678</td></tr>\n",
       "</tbody>\n",
       "</table>\n"
      ],
      "text/latex": [
       "A tibble: 2 × 3\n",
       "\\begin{tabular}{lll}\n",
       " .metric & .estimator & .estimate\\\\\n",
       " <chr> & <chr> & <dbl>\\\\\n",
       "\\hline\n",
       "\t accuracy & binary & 0.8501778\\\\\n",
       "\t kap      & binary & 0.2596678\\\\\n",
       "\\end{tabular}\n"
      ],
      "text/markdown": [
       "\n",
       "A tibble: 2 × 3\n",
       "\n",
       "| .metric &lt;chr&gt; | .estimator &lt;chr&gt; | .estimate &lt;dbl&gt; |\n",
       "|---|---|---|\n",
       "| accuracy | binary | 0.8501778 |\n",
       "| kap      | binary | 0.2596678 |\n",
       "\n"
      ],
      "text/plain": [
       "  .metric  .estimator .estimate\n",
       "1 accuracy binary     0.8501778\n",
       "2 kap      binary     0.2596678"
      ]
     },
     "metadata": {},
     "output_type": "display_data"
    },
    {
     "data": {
      "text/plain": [
       "          Truth\n",
       "Prediction    0    1\n",
       "         0 1604  254\n",
       "         1   41   70"
      ]
     },
     "metadata": {},
     "output_type": "display_data"
    }
   ],
   "source": [
    "knn_nine <- nearest_neighbor(weight_func = \"rectangular\", neighbors = 5) |> # work out good number of k? for some reason the cross validation is not working very well\n",
    "    set_engine(\"kknn\") |>\n",
    "    set_mode(\"classification\")\n",
    "\n",
    "dating_fit <- workflow() |>\n",
    "    add_recipe(speed_dating_recipe) |>\n",
    "    add_model(knn_nine) |>\n",
    "    fit(data = speed_dating_test)\n",
    "\n",
    "predictions <- predict(dating_fit, speed_dating_test) |>\n",
    "    bind_cols(speed_dating_test)\n",
    "\n",
    "match_prediction_accuracy <- predictions |>\n",
    "        metrics(truth = match, estimate = .pred_class)\n",
    "match_prediction_accuracy\n",
    "\n",
    "match_prediction_conf_mat <- predictions |>\n",
    "        conf_mat(truth = match, estimate = .pred_class)\n",
    "match_prediction_conf_mat"
   ]
  },
  {
   "cell_type": "markdown",
   "id": "32f48ef6-a583-49c4-b42a-82581459dcc8",
   "metadata": {},
   "source": [
    "###### "
   ]
  }
 ],
 "metadata": {
  "kernelspec": {
   "display_name": "R",
   "language": "R",
   "name": "ir"
  },
  "language_info": {
   "codemirror_mode": "r",
   "file_extension": ".r",
   "mimetype": "text/x-r-source",
   "name": "R",
   "pygments_lexer": "r",
   "version": "4.1.3"
  }
 },
 "nbformat": 4,
 "nbformat_minor": 5
}

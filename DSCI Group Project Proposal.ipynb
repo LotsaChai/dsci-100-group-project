{
 "cells": [
  {
   "attachments": {},
   "cell_type": "markdown",
   "id": "74aaa12f",
   "metadata": {},
   "source": [
    "# **DSCI 100 Group Project**\n",
    "Authors: \n",
    "- Munn Chai\n",
    "- Deep Shah\n",
    "- Your name here\n",
    "- Your name here\n",
    "\n",
    "### **Introduction**\n",
    "info needed:\n",
    "- context, background info about topic\n",
    "- state question clearly\n",
    "- identify dataset that will be used\n",
    "\n",
    "### **Preliminary Exploratory Data Analysis**\n",
    "info needed: \n",
    "- read dataset into R\n",
    "- wrangle data into tidy data\n",
    "- using Training data only, summarize the data in one table. An example of a useful table could be one that reports the number of observations in each class, the means of the predictor variables you plan to use in your analysis and how many rows have missing data. \n",
    "- Using only training data, visualize the data with at least one plot relevant to the analysis you plan to do (this is exploratory data analysis). An example of a useful visualization could be one that compares the distributions of each of the predictor variables you plan to use in your analysis.\n",
    "\n",
    "### **Methods**\n",
    "info needed: \n",
    "- explain how you will conduct your data analysis, and which rows and columns you will use\n",
    "- describe one way you will visualize the results\n",
    "\n",
    "### **Expected Outcomes and Significance**\n",
    "info needed: \n",
    "- what do you expect to find?\n",
    "- what impact do these findings have? \n",
    "- what future questions could these findings lead to? "
   ]
  }
 ],
 "metadata": {
  "language_info": {
   "name": "python"
  }
 },
 "nbformat": 4,
 "nbformat_minor": 5
}
